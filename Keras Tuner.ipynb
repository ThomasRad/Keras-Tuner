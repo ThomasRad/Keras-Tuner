{
 "cells": [
  {
   "cell_type": "markdown",
   "metadata": {},
   "source": [
    "# Following Along Youtube Tutorial"
   ]
  },
  {
   "cell_type": "markdown",
   "metadata": {},
   "source": [
    "### We will be using the Keras Tuner package to tune a NN"
   ]
  },
  {
   "cell_type": "code",
   "execution_count": null,
   "metadata": {},
   "outputs": [],
   "source": [
    "# We will use Fashion Mnist Dataset.\n",
    "\n",
    "from tensorflow.keras.datasets import fashion_mnist\n",
    "import matplotlib.pyplot as plt\n",
    "from tensorflow import keras\n",
    "from tensorflow.keras.layers import Dense, Conv2D, Activation, Flatten, MaxPooling2D\n",
    "import time\n",
    "\n",
    "# The tuner parts\n",
    "\n",
    "from kerastuner.tuners import RandomSearch\n",
    "from kerastuner.engine.hyperparameters import HyperParameters\n",
    "\n"
   ]
  },
  {
   "cell_type": "code",
   "execution_count": null,
   "metadata": {},
   "outputs": [],
   "source": [
    "# Time \n",
    "\n",
    "Log_Dir = f\"{int(time.time())}\""
   ]
  },
  {
   "cell_type": "code",
   "execution_count": null,
   "metadata": {},
   "outputs": [],
   "source": [
    "# We want to split into train and test. \n",
    "\n",
    "(x_train,y_train), (x_test,y_test) = fashion_mnist.load_data()\n",
    "x_train = x_train.reshape(-1,28,28,1)\n",
    "x_test = x_test.reshape(-1,28,28,1)"
   ]
  },
  {
   "cell_type": "code",
   "execution_count": null,
   "metadata": {},
   "outputs": [],
   "source": [
    "# Building our model.\n",
    "\n",
    "\n",
    "def build_model(hp):\n",
    "    # Build our model\n",
    "    model = keras.models.Sequential()\n",
    "    \n",
    "    # Conv Layer\n",
    "    model.add(Conv2D(hp.Int('Input units',32,256,32), (3,3), input_shape = x_train.shape[1:]))\n",
    "    \n",
    "    # Activation layer\n",
    "    model.add(Activation('relu'))\n",
    "        \n",
    "    # Pooling Layer\n",
    "    model.add(MaxPooling2D(pool_size=(2,2)))\n",
    "    \n",
    "    for i in range(hp.Int('n_layers',1,4)):\n",
    "        # Conv Layer\n",
    "        model.add(Conv2D(hp.Int('Units',32,256,32),(3,3)))\n",
    "        \n",
    "        # Activation layer\n",
    "        model.add(Activation('relu'))\n",
    "    \n",
    "    # Flatten \n",
    "    model.add(Flatten())\n",
    "    \n",
    "    # Dense Layer\n",
    "    model.add(Dense(10))\n",
    "    \n",
    "    # Finally we have a softmax for the categories \n",
    "    model.add(Activation('softmax'))\n",
    "    \n",
    "    # Compile the model\n",
    "    model.compile(optimizer='adam', loss = 'sparse_categorical_crossentropy', metrics = ['accuracy'])\n",
    "    \n",
    "    return model"
   ]
  },
  {
   "cell_type": "code",
   "execution_count": null,
   "metadata": {},
   "outputs": [],
   "source": [
    "# Setting up the Tuner \n",
    "\n",
    "tuner = RandomSearch(\n",
    "    build_model, \n",
    "    objective='val_accuracy',\n",
    "    max_trials=1,\n",
    "    executions_per_trial = 1,\n",
    "    directory = Log_Dir\n",
    ")\n",
    "\n",
    "# Tuner Search here. \n",
    "\n",
    "tuner.search(x = x_train, y = y_train, epochs = 1, batch_size = 64, validation_data = (x_test,y_test))"
   ]
  }
 ],
 "metadata": {
  "kernelspec": {
   "display_name": "Python 3",
   "language": "python",
   "name": "python3"
  },
  "language_info": {
   "codemirror_mode": {
    "name": "ipython",
    "version": 3
   },
   "file_extension": ".py",
   "mimetype": "text/x-python",
   "name": "python",
   "nbconvert_exporter": "python",
   "pygments_lexer": "ipython3",
   "version": "3.7.6"
  }
 },
 "nbformat": 4,
 "nbformat_minor": 4
}
